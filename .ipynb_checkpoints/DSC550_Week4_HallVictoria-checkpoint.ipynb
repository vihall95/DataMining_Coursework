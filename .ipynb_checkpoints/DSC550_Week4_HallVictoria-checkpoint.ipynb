{
 "cells": [
  {
   "cell_type": "markdown",
   "id": "c817e8c7",
   "metadata": {},
   "source": [
    "# DSC550\n",
    "# Week 4\n",
    "# Victoria Hall\n",
    "# 1/8/2022"
   ]
  },
  {
   "cell_type": "markdown",
   "id": "990224e5",
   "metadata": {},
   "source": [
    "## Loading libraries"
   ]
  },
  {
   "cell_type": "code",
   "execution_count": 75,
   "id": "39b06c67",
   "metadata": {},
   "outputs": [],
   "source": [
    "#Loading libaries \n",
    "import numpy as np\n",
    "import pandas as pd\n",
    "import seaborn as sn\n",
    "import matplotlib.pyplot as plt\n",
    "from sklearn.model_selection import train_test_split\n",
    "from sklearn.linear_model import LinearRegression\n",
    "from sklearn.model_selection import cross_val_score\n",
    "from sklearn.linear_model import LinearRegression\n",
    "from sklearn.linear_model import Ridge\n",
    "from sklearn import metrics"
   ]
  },
  {
   "cell_type": "markdown",
   "id": "362f9450",
   "metadata": {},
   "source": [
    "## Prepping Data for Modeling"
   ]
  },
  {
   "cell_type": "code",
   "execution_count": 23,
   "id": "8337163d",
   "metadata": {},
   "outputs": [
    {
     "name": "stdout",
     "output_type": "stream",
     "text": [
      "mpg             float64\n",
      "cylinders         int64\n",
      "displacement    float64\n",
      "horsepower       object\n",
      "weight            int64\n",
      "acceleration    float64\n",
      "model year        int64\n",
      "origin            int64\n",
      "dtype: object\n",
      "Horsepower mean: 104.46938775510205\n"
     ]
    },
    {
     "data": {
      "text/html": [
       "<div>\n",
       "<style scoped>\n",
       "    .dataframe tbody tr th:only-of-type {\n",
       "        vertical-align: middle;\n",
       "    }\n",
       "\n",
       "    .dataframe tbody tr th {\n",
       "        vertical-align: top;\n",
       "    }\n",
       "\n",
       "    .dataframe thead th {\n",
       "        text-align: right;\n",
       "    }\n",
       "</style>\n",
       "<table border=\"1\" class=\"dataframe\">\n",
       "  <thead>\n",
       "    <tr style=\"text-align: right;\">\n",
       "      <th></th>\n",
       "      <th>mpg</th>\n",
       "      <th>cylinders</th>\n",
       "      <th>displacement</th>\n",
       "      <th>horsepower</th>\n",
       "      <th>weight</th>\n",
       "      <th>acceleration</th>\n",
       "      <th>model year</th>\n",
       "      <th>origin</th>\n",
       "    </tr>\n",
       "  </thead>\n",
       "  <tbody>\n",
       "    <tr>\n",
       "      <th>0</th>\n",
       "      <td>18.0</td>\n",
       "      <td>8</td>\n",
       "      <td>307.0</td>\n",
       "      <td>130.0</td>\n",
       "      <td>3504</td>\n",
       "      <td>12.0</td>\n",
       "      <td>70</td>\n",
       "      <td>1</td>\n",
       "    </tr>\n",
       "    <tr>\n",
       "      <th>1</th>\n",
       "      <td>15.0</td>\n",
       "      <td>8</td>\n",
       "      <td>350.0</td>\n",
       "      <td>165.0</td>\n",
       "      <td>3693</td>\n",
       "      <td>11.5</td>\n",
       "      <td>70</td>\n",
       "      <td>1</td>\n",
       "    </tr>\n",
       "    <tr>\n",
       "      <th>2</th>\n",
       "      <td>18.0</td>\n",
       "      <td>8</td>\n",
       "      <td>318.0</td>\n",
       "      <td>150.0</td>\n",
       "      <td>3436</td>\n",
       "      <td>11.0</td>\n",
       "      <td>70</td>\n",
       "      <td>1</td>\n",
       "    </tr>\n",
       "    <tr>\n",
       "      <th>3</th>\n",
       "      <td>16.0</td>\n",
       "      <td>8</td>\n",
       "      <td>304.0</td>\n",
       "      <td>150.0</td>\n",
       "      <td>3433</td>\n",
       "      <td>12.0</td>\n",
       "      <td>70</td>\n",
       "      <td>1</td>\n",
       "    </tr>\n",
       "    <tr>\n",
       "      <th>4</th>\n",
       "      <td>17.0</td>\n",
       "      <td>8</td>\n",
       "      <td>302.0</td>\n",
       "      <td>140.0</td>\n",
       "      <td>3449</td>\n",
       "      <td>10.5</td>\n",
       "      <td>70</td>\n",
       "      <td>1</td>\n",
       "    </tr>\n",
       "  </tbody>\n",
       "</table>\n",
       "</div>"
      ],
      "text/plain": [
       "    mpg  cylinders  displacement  horsepower  weight  acceleration  \\\n",
       "0  18.0          8         307.0       130.0    3504          12.0   \n",
       "1  15.0          8         350.0       165.0    3693          11.5   \n",
       "2  18.0          8         318.0       150.0    3436          11.0   \n",
       "3  16.0          8         304.0       150.0    3433          12.0   \n",
       "4  17.0          8         302.0       140.0    3449          10.5   \n",
       "\n",
       "   model year  origin  \n",
       "0          70       1  \n",
       "1          70       1  \n",
       "2          70       1  \n",
       "3          70       1  \n",
       "4          70       1  "
      ]
     },
     "execution_count": 23,
     "metadata": {},
     "output_type": "execute_result"
    }
   ],
   "source": [
    "#Reading in dataset as panda df\n",
    "auto_df = pd.read_csv('auto-mpg.csv')\n",
    "auto_df.head(10)\n",
    "\n",
    "#removing car name column\n",
    "auto_df1 = auto_df.drop(['car name'], axis=1)\n",
    "auto_df1.head(10)\n",
    "\n",
    "#Checking data types\n",
    "print(auto_df1.dtypes)\n",
    "#Horsepower is object, meaning it contains strings\n",
    "\n",
    "auto_df1.horsepower.unique()\n",
    "#the values are saved as strings because one value is a ?\n",
    "\n",
    "#Coercing values to numeric, errors should become nan\n",
    "auto_df1['horsepower']=auto_df1.horsepower.apply(pd.to_numeric, errors='coerce')\n",
    "\n",
    "#Rechecking types\n",
    "auto_df1.dtypes\n",
    "\n",
    "\n",
    "#finding mean\n",
    "hp_mean = auto_df1.horsepower.mean()\n",
    "\n",
    "print('Horsepower mean:', hp_mean)\n",
    "\n",
    "#replacing missing value with mean. Setting inplace to true to modify original dataframe\n",
    "auto_df1.horsepower.fillna(value=hp_mean, inplace=True)\n",
    "\n",
    "#doublechecking missing value was replaced\n",
    "auto_df1.horsepower.unique()\n",
    "\n",
    "auto_df1.head()\n"
   ]
  },
  {
   "cell_type": "code",
   "execution_count": 28,
   "id": "4bba1a94",
   "metadata": {},
   "outputs": [
    {
     "data": {
      "text/html": [
       "<div>\n",
       "<style scoped>\n",
       "    .dataframe tbody tr th:only-of-type {\n",
       "        vertical-align: middle;\n",
       "    }\n",
       "\n",
       "    .dataframe tbody tr th {\n",
       "        vertical-align: top;\n",
       "    }\n",
       "\n",
       "    .dataframe thead th {\n",
       "        text-align: right;\n",
       "    }\n",
       "</style>\n",
       "<table border=\"1\" class=\"dataframe\">\n",
       "  <thead>\n",
       "    <tr style=\"text-align: right;\">\n",
       "      <th></th>\n",
       "      <th>mpg</th>\n",
       "      <th>cylinders</th>\n",
       "      <th>displacement</th>\n",
       "      <th>horsepower</th>\n",
       "      <th>weight</th>\n",
       "      <th>acceleration</th>\n",
       "      <th>model year</th>\n",
       "      <th>origin_1</th>\n",
       "      <th>origin_2</th>\n",
       "      <th>origin_3</th>\n",
       "    </tr>\n",
       "  </thead>\n",
       "  <tbody>\n",
       "    <tr>\n",
       "      <th>393</th>\n",
       "      <td>27.0</td>\n",
       "      <td>4</td>\n",
       "      <td>140.0</td>\n",
       "      <td>86.0</td>\n",
       "      <td>2790</td>\n",
       "      <td>15.6</td>\n",
       "      <td>82</td>\n",
       "      <td>1</td>\n",
       "      <td>0</td>\n",
       "      <td>0</td>\n",
       "    </tr>\n",
       "    <tr>\n",
       "      <th>394</th>\n",
       "      <td>44.0</td>\n",
       "      <td>4</td>\n",
       "      <td>97.0</td>\n",
       "      <td>52.0</td>\n",
       "      <td>2130</td>\n",
       "      <td>24.6</td>\n",
       "      <td>82</td>\n",
       "      <td>0</td>\n",
       "      <td>1</td>\n",
       "      <td>0</td>\n",
       "    </tr>\n",
       "    <tr>\n",
       "      <th>395</th>\n",
       "      <td>32.0</td>\n",
       "      <td>4</td>\n",
       "      <td>135.0</td>\n",
       "      <td>84.0</td>\n",
       "      <td>2295</td>\n",
       "      <td>11.6</td>\n",
       "      <td>82</td>\n",
       "      <td>1</td>\n",
       "      <td>0</td>\n",
       "      <td>0</td>\n",
       "    </tr>\n",
       "    <tr>\n",
       "      <th>396</th>\n",
       "      <td>28.0</td>\n",
       "      <td>4</td>\n",
       "      <td>120.0</td>\n",
       "      <td>79.0</td>\n",
       "      <td>2625</td>\n",
       "      <td>18.6</td>\n",
       "      <td>82</td>\n",
       "      <td>1</td>\n",
       "      <td>0</td>\n",
       "      <td>0</td>\n",
       "    </tr>\n",
       "    <tr>\n",
       "      <th>397</th>\n",
       "      <td>31.0</td>\n",
       "      <td>4</td>\n",
       "      <td>119.0</td>\n",
       "      <td>82.0</td>\n",
       "      <td>2720</td>\n",
       "      <td>19.4</td>\n",
       "      <td>82</td>\n",
       "      <td>1</td>\n",
       "      <td>0</td>\n",
       "      <td>0</td>\n",
       "    </tr>\n",
       "  </tbody>\n",
       "</table>\n",
       "</div>"
      ],
      "text/plain": [
       "      mpg  cylinders  displacement  horsepower  weight  acceleration  \\\n",
       "393  27.0          4         140.0        86.0    2790          15.6   \n",
       "394  44.0          4          97.0        52.0    2130          24.6   \n",
       "395  32.0          4         135.0        84.0    2295          11.6   \n",
       "396  28.0          4         120.0        79.0    2625          18.6   \n",
       "397  31.0          4         119.0        82.0    2720          19.4   \n",
       "\n",
       "     model year  origin_1  origin_2  origin_3  \n",
       "393          82         1         0         0  \n",
       "394          82         0         1         0  \n",
       "395          82         1         0         0  \n",
       "396          82         1         0         0  \n",
       "397          82         1         0         0  "
      ]
     },
     "execution_count": 28,
     "metadata": {},
     "output_type": "execute_result"
    }
   ],
   "source": [
    "#Creating dummy variables from origin\n",
    "auto_df1.origin.value_counts()\n",
    "#There are 3 different values in origin.\n",
    "\n",
    "#Using get_dummies from pandas based on our origin column\n",
    "auto_df2=pd.get_dummies(auto_df1, columns=['origin'])\n",
    "#Doublechecking it worked\n",
    "auto_df2.tail()\n"
   ]
  },
  {
   "cell_type": "markdown",
   "id": "86db4b98",
   "metadata": {},
   "source": [
    "## Correlation Coefficient Matrix"
   ]
  },
  {
   "cell_type": "code",
   "execution_count": 33,
   "id": "cbfbe394",
   "metadata": {},
   "outputs": [
    {
     "data": {
      "image/png": "[encoded data removed]",
      "text/plain": [
       "<Figure size 432x288 with 2 Axes>"
      ]
     },
     "metadata": {
      "needs_background": "light"
     },
     "output_type": "display_data"
    }
   ],
   "source": [
    "#Creating correlation matrix\n",
    "corrmatrix=auto_df2.corr()\n",
    "\n",
    "#Visualizing with heatmap\n",
    "sn.heatmap(corrmatrix, annot=True)\n",
    "plt.show()"
   ]
  },
  {
   "cell_type": "markdown",
   "id": "06f832b4",
   "metadata": {},
   "source": [
    "MPG is highly correlated with cylinders,displacement, horsepower, and weight negatively. Weight is the most highly correlated to MPG"
   ]
  },
  {
   "cell_type": "markdown",
   "id": "76624207",
   "metadata": {},
   "source": [
    "## Plot MPG Vs Weight"
   ]
  },
  {
   "cell_type": "code",
   "execution_count": 36,
   "id": "9126c6d1",
   "metadata": {},
   "outputs": [
    {
     "data": {
      "image/png": "[encoded data removed]",
      "text/plain": [
       "<Figure size 432x288 with 1 Axes>"
      ]
     },
     "metadata": {
      "needs_background": "light"
     },
     "output_type": "display_data"
    }
   ],
   "source": [
    "#Plotting \n",
    "sn.regplot(data=auto_df2, x='weight',y='mpg')\n",
    "plt.title(\"MPG vs Weight\")\n",
    "plt.show()"
   ]
  },
  {
   "cell_type": "markdown",
   "id": "24e5a6e9",
   "metadata": {},
   "source": [
    "Our scatter plot shows what we were starting to see in our heatmap. There appears to be a negative relationship between weight and mpg. I included a reg line though a straight line probably isn't the best model for the relationship. Still we see that as weight increases, mpg decreases."
   ]
  },
  {
   "cell_type": "markdown",
   "id": "1efb2f3c",
   "metadata": {},
   "source": [
    "## Splitting Training and Test Sets"
   ]
  },
  {
   "cell_type": "code",
   "execution_count": 43,
   "id": "fa36e84d",
   "metadata": {},
   "outputs": [
    {
     "data": {
      "text/html": [
       "<div>\n",
       "<style scoped>\n",
       "    .dataframe tbody tr th:only-of-type {\n",
       "        vertical-align: middle;\n",
       "    }\n",
       "\n",
       "    .dataframe tbody tr th {\n",
       "        vertical-align: top;\n",
       "    }\n",
       "\n",
       "    .dataframe thead th {\n",
       "        text-align: right;\n",
       "    }\n",
       "</style>\n",
       "<table border=\"1\" class=\"dataframe\">\n",
       "  <thead>\n",
       "    <tr style=\"text-align: right;\">\n",
       "      <th></th>\n",
       "      <th>cylinders</th>\n",
       "      <th>displacement</th>\n",
       "      <th>horsepower</th>\n",
       "      <th>weight</th>\n",
       "      <th>acceleration</th>\n",
       "      <th>model year</th>\n",
       "      <th>origin_1</th>\n",
       "      <th>origin_2</th>\n",
       "      <th>origin_3</th>\n",
       "    </tr>\n",
       "  </thead>\n",
       "  <tbody>\n",
       "    <tr>\n",
       "      <th>270</th>\n",
       "      <td>4</td>\n",
       "      <td>134.0</td>\n",
       "      <td>95.0</td>\n",
       "      <td>2515</td>\n",
       "      <td>14.8</td>\n",
       "      <td>78</td>\n",
       "      <td>0</td>\n",
       "      <td>0</td>\n",
       "      <td>1</td>\n",
       "    </tr>\n",
       "    <tr>\n",
       "      <th>234</th>\n",
       "      <td>4</td>\n",
       "      <td>151.0</td>\n",
       "      <td>88.0</td>\n",
       "      <td>2740</td>\n",
       "      <td>16.0</td>\n",
       "      <td>77</td>\n",
       "      <td>1</td>\n",
       "      <td>0</td>\n",
       "      <td>0</td>\n",
       "    </tr>\n",
       "    <tr>\n",
       "      <th>79</th>\n",
       "      <td>4</td>\n",
       "      <td>96.0</td>\n",
       "      <td>69.0</td>\n",
       "      <td>2189</td>\n",
       "      <td>18.0</td>\n",
       "      <td>72</td>\n",
       "      <td>0</td>\n",
       "      <td>1</td>\n",
       "      <td>0</td>\n",
       "    </tr>\n",
       "    <tr>\n",
       "      <th>57</th>\n",
       "      <td>4</td>\n",
       "      <td>113.0</td>\n",
       "      <td>95.0</td>\n",
       "      <td>2278</td>\n",
       "      <td>15.5</td>\n",
       "      <td>72</td>\n",
       "      <td>0</td>\n",
       "      <td>0</td>\n",
       "      <td>1</td>\n",
       "    </tr>\n",
       "    <tr>\n",
       "      <th>139</th>\n",
       "      <td>8</td>\n",
       "      <td>302.0</td>\n",
       "      <td>140.0</td>\n",
       "      <td>4638</td>\n",
       "      <td>16.0</td>\n",
       "      <td>74</td>\n",
       "      <td>1</td>\n",
       "      <td>0</td>\n",
       "      <td>0</td>\n",
       "    </tr>\n",
       "    <tr>\n",
       "      <th>...</th>\n",
       "      <td>...</td>\n",
       "      <td>...</td>\n",
       "      <td>...</td>\n",
       "      <td>...</td>\n",
       "      <td>...</td>\n",
       "      <td>...</td>\n",
       "      <td>...</td>\n",
       "      <td>...</td>\n",
       "      <td>...</td>\n",
       "    </tr>\n",
       "    <tr>\n",
       "      <th>363</th>\n",
       "      <td>6</td>\n",
       "      <td>231.0</td>\n",
       "      <td>110.0</td>\n",
       "      <td>3415</td>\n",
       "      <td>15.8</td>\n",
       "      <td>81</td>\n",
       "      <td>1</td>\n",
       "      <td>0</td>\n",
       "      <td>0</td>\n",
       "    </tr>\n",
       "    <tr>\n",
       "      <th>172</th>\n",
       "      <td>4</td>\n",
       "      <td>90.0</td>\n",
       "      <td>71.0</td>\n",
       "      <td>2223</td>\n",
       "      <td>16.5</td>\n",
       "      <td>75</td>\n",
       "      <td>0</td>\n",
       "      <td>1</td>\n",
       "      <td>0</td>\n",
       "    </tr>\n",
       "    <tr>\n",
       "      <th>136</th>\n",
       "      <td>8</td>\n",
       "      <td>302.0</td>\n",
       "      <td>140.0</td>\n",
       "      <td>4141</td>\n",
       "      <td>14.0</td>\n",
       "      <td>74</td>\n",
       "      <td>1</td>\n",
       "      <td>0</td>\n",
       "      <td>0</td>\n",
       "    </tr>\n",
       "    <tr>\n",
       "      <th>185</th>\n",
       "      <td>4</td>\n",
       "      <td>98.0</td>\n",
       "      <td>79.0</td>\n",
       "      <td>2255</td>\n",
       "      <td>17.7</td>\n",
       "      <td>76</td>\n",
       "      <td>1</td>\n",
       "      <td>0</td>\n",
       "      <td>0</td>\n",
       "    </tr>\n",
       "    <tr>\n",
       "      <th>128</th>\n",
       "      <td>6</td>\n",
       "      <td>250.0</td>\n",
       "      <td>100.0</td>\n",
       "      <td>3336</td>\n",
       "      <td>17.0</td>\n",
       "      <td>74</td>\n",
       "      <td>1</td>\n",
       "      <td>0</td>\n",
       "      <td>0</td>\n",
       "    </tr>\n",
       "  </tbody>\n",
       "</table>\n",
       "<p>318 rows × 9 columns</p>\n",
       "</div>"
      ],
      "text/plain": [
       "     cylinders  displacement  horsepower  weight  acceleration  model year  \\\n",
       "270          4         134.0        95.0    2515          14.8          78   \n",
       "234          4         151.0        88.0    2740          16.0          77   \n",
       "79           4          96.0        69.0    2189          18.0          72   \n",
       "57           4         113.0        95.0    2278          15.5          72   \n",
       "139          8         302.0       140.0    4638          16.0          74   \n",
       "..         ...           ...         ...     ...           ...         ...   \n",
       "363          6         231.0       110.0    3415          15.8          81   \n",
       "172          4          90.0        71.0    2223          16.5          75   \n",
       "136          8         302.0       140.0    4141          14.0          74   \n",
       "185          4          98.0        79.0    2255          17.7          76   \n",
       "128          6         250.0       100.0    3336          17.0          74   \n",
       "\n",
       "     origin_1  origin_2  origin_3  \n",
       "270         0         0         1  \n",
       "234         1         0         0  \n",
       "79          0         1         0  \n",
       "57          0         0         1  \n",
       "139         1         0         0  \n",
       "..        ...       ...       ...  \n",
       "363         1         0         0  \n",
       "172         0         1         0  \n",
       "136         1         0         0  \n",
       "185         1         0         0  \n",
       "128         1         0         0  \n",
       "\n",
       "[318 rows x 9 columns]"
      ]
     },
     "execution_count": 43,
     "metadata": {},
     "output_type": "execute_result"
    }
   ],
   "source": [
    "#Creating features and target\n",
    "x = auto_df2.drop('mpg',1)\n",
    "y = auto_df2['mpg']\n",
    "\n",
    "#Creating splits\n",
    "x_train, x_test,y_train, y_test = train_test_split(x,y, test_size=.2)\n",
    "\n"
   ]
  },
  {
   "cell_type": "markdown",
   "id": "8ae435ea",
   "metadata": {},
   "source": [
    "## Training OLS on training data"
   ]
  },
  {
   "cell_type": "code",
   "execution_count": 65,
   "id": "8bb11075",
   "metadata": {},
   "outputs": [
    {
     "name": "stdout",
     "output_type": "stream",
     "text": [
      "[-0.39357743  0.02430239 -0.02077235 -0.0071781   0.04177787  0.75626279\n",
      " -1.66952101  0.53134324  1.13817778]\n"
     ]
    }
   ],
   "source": [
    "olsmodel=LinearRegression()\n",
    "olsmodel.fit(x_train,y_train)\n",
    "print(olsmodel.coef_)"
   ]
  },
  {
   "cell_type": "markdown",
   "id": "10f1af6f",
   "metadata": {},
   "source": [
    "## Calculate R2, RMSE, and MAE on training and test set"
   ]
  },
  {
   "cell_type": "code",
   "execution_count": 74,
   "id": "f11219b6",
   "metadata": {
    "scrolled": true
   },
   "outputs": [
    {
     "name": "stdout",
     "output_type": "stream",
     "text": [
      "MAE of Test Data: 2.6023205520457737\n",
      "RMSE of Test Data: 3.4956052311409125\n",
      "R2 of Test Data: 0.7915718616481714\n",
      "MAE of Training Data: 2.4988049712788354\n",
      "RMSE of Training Data: 3.228979316187294\n",
      "R2 of Training Data: 0.8299367918735778\n"
     ]
    }
   ],
   "source": [
    "#Running model on test\n",
    "y_pred = olsmodel.predict(x_test)\n",
    "\n",
    "#MAE\n",
    "print('MAE of Test Data:',metrics.mean_absolute_error(y_test,y_pred))\n",
    "\n",
    "#RMSE\n",
    "print('RMSE of Test Data:',np.sqrt(metrics.mean_squared_error(y_test,y_pred)))\n",
    "\n",
    "#R2\n",
    "print('R2 of Test Data:',metrics.r2_score(y_test,y_pred))\n",
    "\n",
    "#Calculating on Training\n",
    "y_pred_train = olsmodel.predict(x_train)\n",
    "#MAE\n",
    "print('MAE of Training Data:',metrics.mean_absolute_error(y_train,y_pred_train))\n",
    "\n",
    "#RMSE\n",
    "print('RMSE of Training Data:',np.sqrt(metrics.mean_squared_error(y_train,y_pred_train)))\n",
    "\n",
    "#R2\n",
    "print('R2 of Training Data:',metrics.r2_score(y_train,y_pred_train))\n",
    "\n"
   ]
  },
  {
   "cell_type": "markdown",
   "id": "b2661fbe",
   "metadata": {},
   "source": [
    "In all instances our model performed better on the training data, which makes sense because the model was created off that data. In order to make generalizations, we ran the model on our test data and our results show the model performed slightly worse. The differences weren't hugely significant. \n",
    "\n",
    "1. Mean Absolute Error\n",
    "    - Our test data only had a slightly higher mean error of 2.6 compared to 2.5 on our training data. This means on average, our model predicted mpg with an average error betweeen 2.5 and 2.6 miles per gallon.\n",
    "    \n",
    "2. Root Mean Square Error\n",
    "    - Again, our test data only slightly differed than predictions on our training data. This metric tells us the average distance between our observed data values and predicted values. We see a distance between 3.2 and 3.5 between our actual values and our predicted values.\n",
    "    \n",
    "3. R Squared\n",
    "    - Our R squared values are similar too. On the test data, our model is able to account for 79% of the variation in our data, while it accounts for 83% of test data. These numbers are generally high, closer to 1 than 0, showing our model is probably a good fit for our data. "
   ]
  },
  {
   "cell_type": "markdown",
   "id": "c8ccbe7c",
   "metadata": {},
   "source": [
    "## Using a Ridge Regression Model"
   ]
  },
  {
   "cell_type": "code",
   "execution_count": 92,
   "id": "75a6a9a7",
   "metadata": {},
   "outputs": [
    {
     "name": "stdout",
     "output_type": "stream",
     "text": [
      "[-0.37384828  0.02335387 -0.02005332 -0.00718163  0.04026839  0.75453287\n",
      " -1.58494873  0.5026254   1.08232332]\n",
      "Ridge MAE of Test Data: 2.6054695285858727\n",
      "Ridge RMSE of Test Data: 3.5009995045405127\n",
      "Ridge R2 of Test Data: 0.7909280899469445\n",
      "Ridge MAE of Training Data: 2.498592703477715\n",
      "Ridge RMSE of Training Data: 3.229297334241361\n",
      "Ridge R2 of Training Data: 0.8299032916070777\n"
     ]
    }
   ],
   "source": [
    "ridgemodel=Ridge(alpha=3)\n",
    "ridgemodel.fit(x_train,y_train)\n",
    "print(ridgemodel.coef_)\n",
    "\n",
    "#Running ridge model on test\n",
    "y_pred1 = ridgemodel.predict(x_test)\n",
    "\n",
    "#MAE\n",
    "print('Ridge MAE of Test Data:',metrics.mean_absolute_error(y_test,y_pred1))\n",
    "\n",
    "#RMSE\n",
    "print('Ridge RMSE of Test Data:',np.sqrt(metrics.mean_squared_error(y_test,y_pred1)))\n",
    "\n",
    "#R2\n",
    "print('Ridge R2 of Test Data:',metrics.r2_score(y_test,y_pred1))\n",
    "\n",
    "#Calculating on Training\n",
    "y_pred_train1 = ridgemodel.predict(x_train)\n",
    "#MAE\n",
    "print('Ridge MAE of Training Data:',metrics.mean_absolute_error(y_train,y_pred_train1))\n",
    "\n",
    "#RMSE\n",
    "print('Ridge RMSE of Training Data:',np.sqrt(metrics.mean_squared_error(y_train,y_pred_train1)))\n",
    "\n",
    "#R2\n",
    "print('Ridge R2 of Training Data:',metrics.r2_score(y_train,y_pred_train1))\n"
   ]
  },
  {
   "cell_type": "markdown",
   "id": "c305116c",
   "metadata": {},
   "source": [
    "Again we see very similar results between the models performance on the training data and the test data. The values barely changed, even as I adjust and played with different alpha values. If I went to extremes, such as alpha=10000 we do see reductions in our R2 values which means we are overpenalizing our coefficients and thus explaining less of the variance. This model would probably perform better on a more complex model as the the purpose of ridge regression would be to minimize the impacts of large coefficients caused by model complexity. In our data, the data has less than 10 features so it probably isn't necessary to run a ridge regression model. If it were necessary, we could use cross validation to help determine the best value of our hyperparameter, alpha. \n",
    "\n",
    "*I did not go into details about MAE, RMSE, and R2 for the ridge regression because the results were extremely similar to our OLS model. Instead I chose to highlight the differences in the purposes of the models and why we didn't see any drastic changes. "
   ]
  }
 ],
 "metadata": {
  "kernelspec": {
   "display_name": "Python 3",
   "language": "python",
   "name": "python3"
  },
  "language_info": {
   "codemirror_mode": {
    "name": "ipython",
    "version": 3
   },
   "file_extension": ".py",
   "mimetype": "text/x-python",
   "name": "python",
   "nbconvert_exporter": "python",
   "pygments_lexer": "ipython3",
   "version": "3.8.8"
  }
 },
 "nbformat": 4,
 "nbformat_minor": 5
}
