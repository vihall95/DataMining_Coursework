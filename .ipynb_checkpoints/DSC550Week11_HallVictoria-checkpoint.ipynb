{
 "cells": [
  {
   "cell_type": "markdown",
   "id": "a42f2d53",
   "metadata": {},
   "source": [
    "# DSC550 Week 11.2 Exercise \n",
    "## Victoria Hall\n",
    "## DSC550\n",
    "## 2.23.2022\n"
   ]
  },
  {
   "cell_type": "code",
   "execution_count": 1,
   "id": "426a8e81",
   "metadata": {},
   "outputs": [],
   "source": [
    "#import packages \n",
    "import numpy as np\n",
    "from keras.datasets import mnist\n",
    "from keras.models import Sequential\n",
    "from keras.layers import Dense,Dropout,Flatten\n",
    "from keras.layers.convolutional import Conv2D, MaxPooling2D\n",
    "from keras.utils import np_utils\n",
    "from keras import backend as K\n",
    "import tensorflow as tf\n"
   ]
  },
  {
   "cell_type": "code",
   "execution_count": 2,
   "id": "9a16eb46",
   "metadata": {},
   "outputs": [
    {
     "data": {
      "text/plain": [
       "'2.3.0'"
      ]
     },
     "execution_count": 2,
     "metadata": {},
     "output_type": "execute_result"
    }
   ],
   "source": [
    "tf.__version__"
   ]
  },
  {
   "cell_type": "code",
   "execution_count": 3,
   "id": "3f3fcd7b",
   "metadata": {},
   "outputs": [],
   "source": [
    "#Setting the color channels and setting random seed\n",
    "#I had to set channel as last because of an issue with tensor flow and the image data order. \n",
    "#It only accepted NHWC due to the use of the CPU\n",
    "K.set_image_data_format(\"channels_last\")\n",
    "\n",
    "np.random.seed(0)"
   ]
  },
  {
   "cell_type": "code",
   "execution_count": 4,
   "id": "ffde3315",
   "metadata": {},
   "outputs": [],
   "source": [
    "#setting image information\n",
    "channels = 1\n",
    "height = 28\n",
    "width = 28"
   ]
  },
  {
   "cell_type": "code",
   "execution_count": 5,
   "id": "2e94eb73",
   "metadata": {},
   "outputs": [],
   "source": [
    "#Loading data as training and test sets from the example data in Keras\n",
    "(data_train,target_train),(data_test,target_test) = mnist.load_data()"
   ]
  },
  {
   "cell_type": "code",
   "execution_count": 6,
   "id": "b432208f",
   "metadata": {},
   "outputs": [],
   "source": [
    "#Reshaping\n",
    "data_train = data_train.reshape(data_train.shape[0],height,width,channels)\n",
    "data_test = data_test.reshape(data_test.shape[0],height,width,channels)"
   ]
  },
  {
   "cell_type": "code",
   "execution_count": 7,
   "id": "eb725698",
   "metadata": {},
   "outputs": [],
   "source": [
    "#loading libraries to look at images\n",
    "from matplotlib import pyplot as plt"
   ]
  },
  {
   "cell_type": "code",
   "execution_count": 8,
   "id": "8474bbbf",
   "metadata": {},
   "outputs": [
    {
     "data": {
      "image/png": "[encoded data removed]",
      "text/plain": [
       "<Figure size 432x288 with 5 Axes>"
      ]
     },
     "metadata": {
      "needs_background": "light"
     },
     "output_type": "display_data"
    }
   ],
   "source": [
    "#using pyplot to look at the first 5 images in the dataset with the pixel data\n",
    "for i in range(5):\n",
    "    plt.subplot(350+1+i*2)\n",
    "    plt.imshow(data_train[i],cmap=plt.get_cmap('gray'))\n",
    "\n",
    "plt.show()"
   ]
  },
  {
   "cell_type": "code",
   "execution_count": 9,
   "id": "80dfb527",
   "metadata": {},
   "outputs": [],
   "source": [
    "#Rescaling the pixel intensity which is a feature of the image so the training performance isn't diminished by obersvation values\n",
    "#that are greater than the network params\n",
    "features_train = data_train / 255\n",
    "features_test = data_test / 255\n"
   ]
  },
  {
   "cell_type": "code",
   "execution_count": 10,
   "id": "2fca994f",
   "metadata": {},
   "outputs": [],
   "source": [
    "#One hot encoding targets so each obs has 10 classes(digits 0-9)\n",
    "target_train = np_utils.to_categorical(target_train)\n",
    "target_test = np_utils.to_categorical(target_test)\n",
    "number_of_classes = target_test.shape[1]"
   ]
  },
  {
   "cell_type": "code",
   "execution_count": 11,
   "id": "c8cd80e8",
   "metadata": {},
   "outputs": [],
   "source": [
    "#Starting the neural network\n",
    "network = Sequential()"
   ]
  },
  {
   "cell_type": "code",
   "execution_count": 12,
   "id": "010500fe",
   "metadata": {},
   "outputs": [],
   "source": [
    "#Adding convolution later with 64 filters, a 5/5 window and ReLu Activation. Using a larger window that typical 3x3\n",
    "network.add(Conv2D(filters=64,\n",
    "                   kernel_size=(5, 5),\n",
    "                   input_shape=(height,width,channels),\n",
    "                   activation='relu'))"
   ]
  },
  {
   "cell_type": "code",
   "execution_count": 13,
   "id": "b0948ed3",
   "metadata": {},
   "outputs": [],
   "source": [
    "network.add(MaxPooling2D(pool_size=(2,2)))"
   ]
  },
  {
   "cell_type": "code",
   "execution_count": 14,
   "id": "f508b702",
   "metadata": {},
   "outputs": [],
   "source": [
    "#Adding a dropout layer to minimize chance of overfitting\n",
    "network.add(Dropout(0.5))\n",
    "\n"
   ]
  },
  {
   "cell_type": "code",
   "execution_count": 15,
   "id": "1a8d5384",
   "metadata": {},
   "outputs": [],
   "source": [
    "#Flattening layer to convert inputs into a format that the full connected layer can use\n",
    "network.add(Flatten())"
   ]
  },
  {
   "cell_type": "code",
   "execution_count": 16,
   "id": "14136bbe",
   "metadata": {},
   "outputs": [],
   "source": [
    "#adding fully connected lay with Relu\n",
    "network.add(Dense(128, activation=\"relu\"))"
   ]
  },
  {
   "cell_type": "code",
   "execution_count": 17,
   "id": "22bf0e6c",
   "metadata": {},
   "outputs": [],
   "source": [
    "#Adding dropout layer\n",
    "network.add(Dropout(0.5))"
   ]
  },
  {
   "cell_type": "code",
   "execution_count": 18,
   "id": "eb4d15dc",
   "metadata": {},
   "outputs": [],
   "source": [
    "network.add(Dense(number_of_classes, activation=\"softmax\"))"
   ]
  },
  {
   "cell_type": "code",
   "execution_count": 19,
   "id": "8b7530d8",
   "metadata": {},
   "outputs": [],
   "source": [
    "#Compiling the network\n",
    "network.compile(loss=\"categorical_crossentropy\",optimizer=\"rmsprop\",metrics=[\"accuracy\"])"
   ]
  },
  {
   "cell_type": "code",
   "execution_count": 20,
   "id": "11f472d1",
   "metadata": {},
   "outputs": [
    {
     "data": {
      "text/plain": [
       "<tensorflow.python.keras.callbacks.History at 0x22bf89bcac0>"
      ]
     },
     "execution_count": 20,
     "metadata": {},
     "output_type": "execute_result"
    }
   ],
   "source": [
    "#Training the model\n",
    "network.fit(features_train, # Features\n",
    "            target_train, # Target\n",
    "            epochs=2, # Number of epochs\n",
    "            batch_size=1000, # Number of observations per batch\n",
    "            validation_data=(features_test, target_test)) # Data for evaluation"
   ]
  },
  {
   "cell_type": "code",
   "execution_count": 24,
   "id": "505a86ae",
   "metadata": {},
   "outputs": [],
   "source": [
    "#importing packages for model evaluation\n",
    "from sklearn.metrics import accuracy_score\n"
   ]
  },
  {
   "cell_type": "code",
   "execution_count": 26,
   "id": "ffecb62d",
   "metadata": {},
   "outputs": [],
   "source": [
    "#Predicting test target based on test features with network model\n",
    "y_pred = network.predict(features_test)"
   ]
  },
  {
   "cell_type": "code",
   "execution_count": 28,
   "id": "9cf2d7e9",
   "metadata": {},
   "outputs": [],
   "source": [
    "#Getting integer labels to use in prediction\n",
    "pred = list()\n",
    "for i in range(len(y_pred)):\n",
    "    pred.append(np.argmax(y_pred[i]))\n",
    "#Converting one hot encoded test label to label\n",
    "test = list()\n",
    "for i in range(len(target_test)):\n",
    "    test.append(np.argmax(target_test[i]))"
   ]
  },
  {
   "cell_type": "code",
   "execution_count": 51,
   "id": "f8000783",
   "metadata": {},
   "outputs": [
    {
     "name": "stdout",
     "output_type": "stream",
     "text": [
      "Accuracy is: 97.13%\n"
     ]
    }
   ],
   "source": [
    "a = accuracy_score(pred,test)\n",
    "print('Accuracy is: {:.2%}'.format(a))"
   ]
  },
  {
   "cell_type": "code",
   "execution_count": 42,
   "id": "9ac63e59",
   "metadata": {},
   "outputs": [],
   "source": [
    "#importing package to create confusion matrix\n",
    "from sklearn.metrics import confusion_matrix\n",
    "import seaborn as sns"
   ]
  },
  {
   "cell_type": "code",
   "execution_count": 43,
   "id": "a7f12c98",
   "metadata": {},
   "outputs": [
    {
     "data": {
      "text/plain": [
       "array([[ 977,    0,    7,    0,    1,    2,   12,    1,   15,   11],\n",
       "       [   0, 1124,    3,    0,    0,    1,    3,    2,    1,    6],\n",
       "       [   0,    4,  999,    3,    4,    0,    1,   16,    4,    1],\n",
       "       [   0,    1,    2,  976,    0,    1,    0,    2,    5,    7],\n",
       "       [   0,    1,    2,    0,  965,    0,    3,    0,    5,   14],\n",
       "       [   1,    0,    0,   14,    0,  882,    6,    0,    4,    8],\n",
       "       [   0,    3,    0,    0,    4,    3,  931,    0,    6,    0],\n",
       "       [   1,    1,   11,   11,    2,    1,    0, 1005,   12,   23],\n",
       "       [   1,    1,    8,    6,    2,    2,    2,    2,  919,    4],\n",
       "       [   0,    0,    0,    0,    4,    0,    0,    0,    3,  935]],\n",
       "      dtype=int64)"
      ]
     },
     "execution_count": 43,
     "metadata": {},
     "output_type": "execute_result"
    }
   ],
   "source": [
    "matrix = confusion_matrix(pred,test)\n",
    "matrix"
   ]
  },
  {
   "cell_type": "code",
   "execution_count": 47,
   "id": "85410c5d",
   "metadata": {},
   "outputs": [
    {
     "data": {
      "image/png": "[encoded data removed]",
      "text/plain": [
       "<Figure size 720x720 with 2 Axes>"
      ]
     },
     "metadata": {
      "needs_background": "light"
     },
     "output_type": "display_data"
    }
   ],
   "source": [
    "#plotting confusion matrix\n",
    "figure = plt.figure(figsize=(10, 10))\n",
    "sns.heatmap(matrix, annot=True,cmap=plt.cm.Blues, fmt=\"d\")\n",
    "plt.ylabel('True label')\n",
    "plt.xlabel('Predicted label')\n",
    "plt.show()\n"
   ]
  },
  {
   "cell_type": "markdown",
   "id": "4add4d90",
   "metadata": {},
   "source": [
    "The neural network was 97% accurate at determining the number in the picture as the correct number. Our confusion matrix shows what was misidentified. For exampe, 0 was misidentified as an eight 15 times. Overall, the network was successful in determining the number drawn in the picture for the vast majority of cases. "
   ]
  }
 ],
 "metadata": {
  "kernelspec": {
   "display_name": "Python 3",
   "language": "python",
   "name": "python3"
  },
  "language_info": {
   "codemirror_mode": {
    "name": "ipython",
    "version": 3
   },
   "file_extension": ".py",
   "mimetype": "text/x-python",
   "name": "python",
   "nbconvert_exporter": "python",
   "pygments_lexer": "ipython3",
   "version": "3.8.8"
  }
 },
 "nbformat": 4,
 "nbformat_minor": 5
}
